{
  "nbformat": 4,
  "nbformat_minor": 0,
  "metadata": {
    "colab": {
      "provenance": [],
      "gpuType": "T4"
    },
    "kernelspec": {
      "name": "python3",
      "display_name": "Python 3"
    },
    "language_info": {
      "name": "python"
    },
    "accelerator": "GPU"
  },
  "cells": [
    {
      "cell_type": "code",
      "source": [
        "from google.colab import drive\n",
        "drive.mount('/content/drive')\n"
      ],
      "metadata": {
        "colab": {
          "base_uri": "https://localhost:8080/"
        },
        "id": "rXSM7HMqkU7K",
        "outputId": "da5e63c1-1131-4120-ab00-e32b0056335f"
      },
      "execution_count": null,
      "outputs": [
        {
          "output_type": "stream",
          "name": "stdout",
          "text": [
            "Mounted at /content/drive\n"
          ]
        }
      ]
    },
    {
      "cell_type": "code",
      "source": [
        "!pip install piq pytorch-msssim"
      ],
      "metadata": {
        "colab": {
          "base_uri": "https://localhost:8080/"
        },
        "id": "GIY55PjRkibL",
        "outputId": "9bafa50b-f456-4db4-89e6-39b39ea213f2"
      },
      "execution_count": null,
      "outputs": [
        {
          "output_type": "stream",
          "name": "stdout",
          "text": [
            "Collecting piq\n",
            "  Downloading piq-0.8.0-py3-none-any.whl.metadata (17 kB)\n",
            "Collecting pytorch-msssim\n",
            "  Downloading pytorch_msssim-1.0.0-py3-none-any.whl.metadata (8.0 kB)\n",
            "Requirement already satisfied: torchvision>=0.10.0 in /usr/local/lib/python3.11/dist-packages (from piq) (0.21.0+cu124)\n",
            "Requirement already satisfied: torch in /usr/local/lib/python3.11/dist-packages (from pytorch-msssim) (2.6.0+cu124)\n",
            "Requirement already satisfied: numpy in /usr/local/lib/python3.11/dist-packages (from torchvision>=0.10.0->piq) (2.0.2)\n",
            "Requirement already satisfied: pillow!=8.3.*,>=5.3.0 in /usr/local/lib/python3.11/dist-packages (from torchvision>=0.10.0->piq) (11.1.0)\n",
            "Requirement already satisfied: filelock in /usr/local/lib/python3.11/dist-packages (from torch->pytorch-msssim) (3.18.0)\n",
            "Requirement already satisfied: typing-extensions>=4.10.0 in /usr/local/lib/python3.11/dist-packages (from torch->pytorch-msssim) (4.12.2)\n",
            "Requirement already satisfied: networkx in /usr/local/lib/python3.11/dist-packages (from torch->pytorch-msssim) (3.4.2)\n",
            "Requirement already satisfied: jinja2 in /usr/local/lib/python3.11/dist-packages (from torch->pytorch-msssim) (3.1.6)\n",
            "Requirement already satisfied: fsspec in /usr/local/lib/python3.11/dist-packages (from torch->pytorch-msssim) (2025.3.0)\n",
            "Collecting nvidia-cuda-nvrtc-cu12==12.4.127 (from torch->pytorch-msssim)\n",
            "  Downloading nvidia_cuda_nvrtc_cu12-12.4.127-py3-none-manylinux2014_x86_64.whl.metadata (1.5 kB)\n",
            "Collecting nvidia-cuda-runtime-cu12==12.4.127 (from torch->pytorch-msssim)\n",
            "  Downloading nvidia_cuda_runtime_cu12-12.4.127-py3-none-manylinux2014_x86_64.whl.metadata (1.5 kB)\n",
            "Collecting nvidia-cuda-cupti-cu12==12.4.127 (from torch->pytorch-msssim)\n",
            "  Downloading nvidia_cuda_cupti_cu12-12.4.127-py3-none-manylinux2014_x86_64.whl.metadata (1.6 kB)\n",
            "Collecting nvidia-cudnn-cu12==9.1.0.70 (from torch->pytorch-msssim)\n",
            "  Downloading nvidia_cudnn_cu12-9.1.0.70-py3-none-manylinux2014_x86_64.whl.metadata (1.6 kB)\n",
            "Collecting nvidia-cublas-cu12==12.4.5.8 (from torch->pytorch-msssim)\n",
            "  Downloading nvidia_cublas_cu12-12.4.5.8-py3-none-manylinux2014_x86_64.whl.metadata (1.5 kB)\n",
            "Collecting nvidia-cufft-cu12==11.2.1.3 (from torch->pytorch-msssim)\n",
            "  Downloading nvidia_cufft_cu12-11.2.1.3-py3-none-manylinux2014_x86_64.whl.metadata (1.5 kB)\n",
            "Collecting nvidia-curand-cu12==10.3.5.147 (from torch->pytorch-msssim)\n",
            "  Downloading nvidia_curand_cu12-10.3.5.147-py3-none-manylinux2014_x86_64.whl.metadata (1.5 kB)\n",
            "Collecting nvidia-cusolver-cu12==11.6.1.9 (from torch->pytorch-msssim)\n",
            "  Downloading nvidia_cusolver_cu12-11.6.1.9-py3-none-manylinux2014_x86_64.whl.metadata (1.6 kB)\n",
            "Collecting nvidia-cusparse-cu12==12.3.1.170 (from torch->pytorch-msssim)\n",
            "  Downloading nvidia_cusparse_cu12-12.3.1.170-py3-none-manylinux2014_x86_64.whl.metadata (1.6 kB)\n",
            "Requirement already satisfied: nvidia-cusparselt-cu12==0.6.2 in /usr/local/lib/python3.11/dist-packages (from torch->pytorch-msssim) (0.6.2)\n",
            "Requirement already satisfied: nvidia-nccl-cu12==2.21.5 in /usr/local/lib/python3.11/dist-packages (from torch->pytorch-msssim) (2.21.5)\n",
            "Requirement already satisfied: nvidia-nvtx-cu12==12.4.127 in /usr/local/lib/python3.11/dist-packages (from torch->pytorch-msssim) (12.4.127)\n",
            "Collecting nvidia-nvjitlink-cu12==12.4.127 (from torch->pytorch-msssim)\n",
            "  Downloading nvidia_nvjitlink_cu12-12.4.127-py3-none-manylinux2014_x86_64.whl.metadata (1.5 kB)\n",
            "Requirement already satisfied: triton==3.2.0 in /usr/local/lib/python3.11/dist-packages (from torch->pytorch-msssim) (3.2.0)\n",
            "Requirement already satisfied: sympy==1.13.1 in /usr/local/lib/python3.11/dist-packages (from torch->pytorch-msssim) (1.13.1)\n",
            "Requirement already satisfied: mpmath<1.4,>=1.1.0 in /usr/local/lib/python3.11/dist-packages (from sympy==1.13.1->torch->pytorch-msssim) (1.3.0)\n",
            "Requirement already satisfied: MarkupSafe>=2.0 in /usr/local/lib/python3.11/dist-packages (from jinja2->torch->pytorch-msssim) (3.0.2)\n",
            "Downloading piq-0.8.0-py3-none-any.whl (106 kB)\n",
            "\u001b[2K   \u001b[90m━━━━━━━━━━━━━━━━━━━━━━━━━━━━━━━━━━━━━━━━\u001b[0m \u001b[32m106.9/106.9 kB\u001b[0m \u001b[31m8.0 MB/s\u001b[0m eta \u001b[36m0:00:00\u001b[0m\n",
            "\u001b[?25hDownloading pytorch_msssim-1.0.0-py3-none-any.whl (7.7 kB)\n",
            "Downloading nvidia_cublas_cu12-12.4.5.8-py3-none-manylinux2014_x86_64.whl (363.4 MB)\n",
            "\u001b[2K   \u001b[90m━━━━━━━━━━━━━━━━━━━━━━━━━━━━━━━━━━━━━━━━\u001b[0m \u001b[32m363.4/363.4 MB\u001b[0m \u001b[31m3.9 MB/s\u001b[0m eta \u001b[36m0:00:00\u001b[0m\n",
            "\u001b[?25hDownloading nvidia_cuda_cupti_cu12-12.4.127-py3-none-manylinux2014_x86_64.whl (13.8 MB)\n",
            "\u001b[2K   \u001b[90m━━━━━━━━━━━━━━━━━━━━━━━━━━━━━━━━━━━━━━━━\u001b[0m \u001b[32m13.8/13.8 MB\u001b[0m \u001b[31m106.2 MB/s\u001b[0m eta \u001b[36m0:00:00\u001b[0m\n",
            "\u001b[?25hDownloading nvidia_cuda_nvrtc_cu12-12.4.127-py3-none-manylinux2014_x86_64.whl (24.6 MB)\n",
            "\u001b[2K   \u001b[90m━━━━━━━━━━━━━━━━━━━━━━━━━━━━━━━━━━━━━━━━\u001b[0m \u001b[32m24.6/24.6 MB\u001b[0m \u001b[31m82.2 MB/s\u001b[0m eta \u001b[36m0:00:00\u001b[0m\n",
            "\u001b[?25hDownloading nvidia_cuda_runtime_cu12-12.4.127-py3-none-manylinux2014_x86_64.whl (883 kB)\n",
            "\u001b[2K   \u001b[90m━━━━━━━━━━━━━━━━━━━━━━━━━━━━━━━━━━━━━━━━\u001b[0m \u001b[32m883.7/883.7 kB\u001b[0m \u001b[31m42.7 MB/s\u001b[0m eta \u001b[36m0:00:00\u001b[0m\n",
            "\u001b[?25hDownloading nvidia_cudnn_cu12-9.1.0.70-py3-none-manylinux2014_x86_64.whl (664.8 MB)\n",
            "\u001b[2K   \u001b[90m━━━━━━━━━━━━━━━━━━━━━━━━━━━━━━━━━━━━━━━━\u001b[0m \u001b[32m664.8/664.8 MB\u001b[0m \u001b[31m2.2 MB/s\u001b[0m eta \u001b[36m0:00:00\u001b[0m\n",
            "\u001b[?25hDownloading nvidia_cufft_cu12-11.2.1.3-py3-none-manylinux2014_x86_64.whl (211.5 MB)\n",
            "\u001b[2K   \u001b[90m━━━━━━━━━━━━━━━━━━━━━━━━━━━━━━━━━━━━━━━━\u001b[0m \u001b[32m211.5/211.5 MB\u001b[0m \u001b[31m6.4 MB/s\u001b[0m eta \u001b[36m0:00:00\u001b[0m\n",
            "\u001b[?25hDownloading nvidia_curand_cu12-10.3.5.147-py3-none-manylinux2014_x86_64.whl (56.3 MB)\n",
            "\u001b[2K   \u001b[90m━━━━━━━━━━━━━━━━━━━━━━━━━━━━━━━━━━━━━━━━\u001b[0m \u001b[32m56.3/56.3 MB\u001b[0m \u001b[31m12.8 MB/s\u001b[0m eta \u001b[36m0:00:00\u001b[0m\n",
            "\u001b[?25hDownloading nvidia_cusolver_cu12-11.6.1.9-py3-none-manylinux2014_x86_64.whl (127.9 MB)\n",
            "\u001b[2K   \u001b[90m━━━━━━━━━━━━━━━━━━━━━━━━━━━━━━━━━━━━━━━━\u001b[0m \u001b[32m127.9/127.9 MB\u001b[0m \u001b[31m7.0 MB/s\u001b[0m eta \u001b[36m0:00:00\u001b[0m\n",
            "\u001b[?25hDownloading nvidia_cusparse_cu12-12.3.1.170-py3-none-manylinux2014_x86_64.whl (207.5 MB)\n",
            "\u001b[2K   \u001b[90m━━━━━━━━━━━━━━━━━━━━━━━━━━━━━━━━━━━━━━━━\u001b[0m \u001b[32m207.5/207.5 MB\u001b[0m \u001b[31m6.2 MB/s\u001b[0m eta \u001b[36m0:00:00\u001b[0m\n",
            "\u001b[?25hDownloading nvidia_nvjitlink_cu12-12.4.127-py3-none-manylinux2014_x86_64.whl (21.1 MB)\n",
            "\u001b[2K   \u001b[90m━━━━━━━━━━━━━━━━━━━━━━━━━━━━━━━━━━━━━━━━\u001b[0m \u001b[32m21.1/21.1 MB\u001b[0m \u001b[31m98.5 MB/s\u001b[0m eta \u001b[36m0:00:00\u001b[0m\n",
            "\u001b[?25hInstalling collected packages: nvidia-nvjitlink-cu12, nvidia-curand-cu12, nvidia-cufft-cu12, nvidia-cuda-runtime-cu12, nvidia-cuda-nvrtc-cu12, nvidia-cuda-cupti-cu12, nvidia-cublas-cu12, nvidia-cusparse-cu12, nvidia-cudnn-cu12, nvidia-cusolver-cu12, pytorch-msssim, piq\n",
            "  Attempting uninstall: nvidia-nvjitlink-cu12\n",
            "    Found existing installation: nvidia-nvjitlink-cu12 12.5.82\n",
            "    Uninstalling nvidia-nvjitlink-cu12-12.5.82:\n",
            "      Successfully uninstalled nvidia-nvjitlink-cu12-12.5.82\n",
            "  Attempting uninstall: nvidia-curand-cu12\n",
            "    Found existing installation: nvidia-curand-cu12 10.3.6.82\n",
            "    Uninstalling nvidia-curand-cu12-10.3.6.82:\n",
            "      Successfully uninstalled nvidia-curand-cu12-10.3.6.82\n",
            "  Attempting uninstall: nvidia-cufft-cu12\n",
            "    Found existing installation: nvidia-cufft-cu12 11.2.3.61\n",
            "    Uninstalling nvidia-cufft-cu12-11.2.3.61:\n",
            "      Successfully uninstalled nvidia-cufft-cu12-11.2.3.61\n",
            "  Attempting uninstall: nvidia-cuda-runtime-cu12\n",
            "    Found existing installation: nvidia-cuda-runtime-cu12 12.5.82\n",
            "    Uninstalling nvidia-cuda-runtime-cu12-12.5.82:\n",
            "      Successfully uninstalled nvidia-cuda-runtime-cu12-12.5.82\n",
            "  Attempting uninstall: nvidia-cuda-nvrtc-cu12\n",
            "    Found existing installation: nvidia-cuda-nvrtc-cu12 12.5.82\n",
            "    Uninstalling nvidia-cuda-nvrtc-cu12-12.5.82:\n",
            "      Successfully uninstalled nvidia-cuda-nvrtc-cu12-12.5.82\n",
            "  Attempting uninstall: nvidia-cuda-cupti-cu12\n",
            "    Found existing installation: nvidia-cuda-cupti-cu12 12.5.82\n",
            "    Uninstalling nvidia-cuda-cupti-cu12-12.5.82:\n",
            "      Successfully uninstalled nvidia-cuda-cupti-cu12-12.5.82\n",
            "  Attempting uninstall: nvidia-cublas-cu12\n",
            "    Found existing installation: nvidia-cublas-cu12 12.5.3.2\n",
            "    Uninstalling nvidia-cublas-cu12-12.5.3.2:\n",
            "      Successfully uninstalled nvidia-cublas-cu12-12.5.3.2\n",
            "  Attempting uninstall: nvidia-cusparse-cu12\n",
            "    Found existing installation: nvidia-cusparse-cu12 12.5.1.3\n",
            "    Uninstalling nvidia-cusparse-cu12-12.5.1.3:\n",
            "      Successfully uninstalled nvidia-cusparse-cu12-12.5.1.3\n",
            "  Attempting uninstall: nvidia-cudnn-cu12\n",
            "    Found existing installation: nvidia-cudnn-cu12 9.3.0.75\n",
            "    Uninstalling nvidia-cudnn-cu12-9.3.0.75:\n",
            "      Successfully uninstalled nvidia-cudnn-cu12-9.3.0.75\n",
            "  Attempting uninstall: nvidia-cusolver-cu12\n",
            "    Found existing installation: nvidia-cusolver-cu12 11.6.3.83\n",
            "    Uninstalling nvidia-cusolver-cu12-11.6.3.83:\n",
            "      Successfully uninstalled nvidia-cusolver-cu12-11.6.3.83\n",
            "Successfully installed nvidia-cublas-cu12-12.4.5.8 nvidia-cuda-cupti-cu12-12.4.127 nvidia-cuda-nvrtc-cu12-12.4.127 nvidia-cuda-runtime-cu12-12.4.127 nvidia-cudnn-cu12-9.1.0.70 nvidia-cufft-cu12-11.2.1.3 nvidia-curand-cu12-10.3.5.147 nvidia-cusolver-cu12-11.6.1.9 nvidia-cusparse-cu12-12.3.1.170 nvidia-nvjitlink-cu12-12.4.127 piq-0.8.0 pytorch-msssim-1.0.0\n"
          ]
        }
      ]
    },
    {
      "cell_type": "code",
      "execution_count": null,
      "metadata": {
        "id": "QPBf-jYTjfN4"
      },
      "outputs": [],
      "source": [
        "import torch\n",
        "import torch.nn as nn\n",
        "from torch.utils.data import Dataset, DataLoader\n",
        "from torchvision import transforms\n",
        "from PIL import Image\n",
        "import os"
      ]
    },
    {
      "cell_type": "code",
      "source": [
        "class ResidualBlock(nn.Module):\n",
        "    def __init__(self, channels):\n",
        "        super(ResidualBlock, self).__init__()\n",
        "        self.conv1 = nn.Conv2d(channels, channels, kernel_size=3, padding=1)\n",
        "        self.conv2 = nn.Conv2d(channels, channels, kernel_size=3, padding=1)\n",
        "        self.relu = nn.LeakyReLU(0.2, inplace=True)\n",
        "\n",
        "    def forward(self, x):\n",
        "        residual = x\n",
        "        out = self.conv1(x)\n",
        "        out = self.relu(out)\n",
        "        out = self.conv2(out)\n",
        "        out += residual\n",
        "        return out\n",
        "\n",
        "\n",
        "class FeatureEncoderModule(nn.Module):\n",
        "    def __init__(self, in_channels=1, out_channels=64, num_res_blocks=4):\n",
        "        super(FeatureEncoderModule, self).__init__()\n",
        "        self.conv1 = nn.Conv2d(in_channels, out_channels, kernel_size=3, stride=2, padding=1)\n",
        "        self.res_blocks = nn.Sequential(*[ResidualBlock(out_channels) for _ in range(num_res_blocks)])\n",
        "        self.conv2 = nn.Conv2d(out_channels, out_channels, kernel_size=3, stride=2, padding=1)\n",
        "        self.relu = nn.LeakyReLU(0.2, inplace=True)\n",
        "\n",
        "    def forward(self, x):\n",
        "        x = self.conv1(x)\n",
        "        x = self.relu(x)\n",
        "        x = self.res_blocks(x)\n",
        "        x = self.conv2(x)\n",
        "        return x\n",
        "\n",
        "\n",
        "class FeatureDecoderModule(nn.Module):\n",
        "    def __init__(self, in_channels=64, out_channels=1, num_res_blocks=4):\n",
        "        super(FeatureDecoderModule, self).__init__()\n",
        "        self.conv1 = nn.ConvTranspose2d(in_channels, in_channels, kernel_size=3, stride=2, padding=1, output_padding=1)\n",
        "        self.res_blocks = nn.Sequential(*[ResidualBlock(in_channels) for _ in range(num_res_blocks)])\n",
        "        self.conv2 = nn.ConvTranspose2d(in_channels, out_channels, kernel_size=3, stride=2, padding=1, output_padding=1)\n",
        "        self.relu = nn.LeakyReLU(0.2, inplace=True)\n",
        "        self.output_activation = nn.Sigmoid()\n",
        "\n",
        "    def forward(self, x):\n",
        "        x = self.conv1(x)\n",
        "        x = self.relu(x)\n",
        "        x = self.res_blocks(x)\n",
        "        x = self.conv2(x)\n",
        "        x = self.output_activation(x)\n",
        "        return x\n",
        "\n",
        "class FeatureFusionEncryptionModule(nn.Module):\n",
        "    def __init__(self, channels):\n",
        "        super(FeatureFusionEncryptionModule, self).__init__()\n",
        "        self.F_block = ResidualBlock(channels)  # Function F\n",
        "        self.G_block = ResidualBlock(channels)  # Function G\n",
        "\n",
        "    def forward(self, Ki, alpha_i):\n",
        "        EKi = Ki + self.F_block(alpha_i)  # Encrypted Key\n",
        "        EPi = alpha_i + self.G_block(EKi)  # Encrypted Feature\n",
        "        return EKi, EPi\n",
        "\n",
        "\n",
        "class FeatureFusionDecryptionModule(nn.Module):\n",
        "    def __init__(self, channels):\n",
        "        super(FeatureFusionDecryptionModule, self).__init__()\n",
        "        self.F_block = ResidualBlock(channels)  # Function F\n",
        "        self.G_block = ResidualBlock(channels)  # Function G\n",
        "\n",
        "    def forward(self, EKi, EPi):\n",
        "        alpha_i = EPi - self.G_block(EKi)  # Recover alpha\n",
        "        Ki = EKi - self.F_block(alpha_i)  # Recover feature key\n",
        "        return Ki, alpha_i\n",
        "\n"
      ],
      "metadata": {
        "id": "W5miUu4ojwZA"
      },
      "execution_count": 13,
      "outputs": []
    },
    {
      "cell_type": "code",
      "source": [
        "class MedicalImageEncryptionModel(nn.Module):\n",
        "    def __init__(self, channels=64):\n",
        "        super(MedicalImageEncryptionModel, self).__init__()\n",
        "        self.encoder = FeatureEncoderModule()\n",
        "        self.encryption = FeatureFusionEncryptionModule(channels)\n",
        "        self.decryption = FeatureFusionDecryptionModule(channels)\n",
        "        self.decoder = FeatureDecoderModule()\n",
        "\n",
        "    def forward(self, x):\n",
        "        # Step 1: Encode Image Features\n",
        "        Ki = self.encoder(x)\n",
        "\n",
        "        # Step 2: Generate a random fusion parameter alpha_i (same shape as Ki)\n",
        "        alpha_i = torch.rand_like(Ki, device=Ki.device)\n",
        "\n",
        "        # Step 3: Encrypt Features\n",
        "        EKi, EPi = self.encryption(Ki, alpha_i)\n",
        "\n",
        "        # Step 4: Decrypt Features\n",
        "        recovered_Ki, recovered_alpha_i = self.decryption(EKi, EPi)\n",
        "\n",
        "        # Step 5: Decode the Recovered Features\n",
        "        reconstructed_x = self.decoder(recovered_Ki)\n",
        "\n",
        "        return reconstructed_x, Ki, EKi, EPi, recovered_Ki"
      ],
      "metadata": {
        "id": "_gE_SZLYj4jT"
      },
      "execution_count": 14,
      "outputs": []
    },
    {
      "cell_type": "code",
      "source": [
        "class CustomImageDataset(Dataset):\n",
        "    def __init__(self, root_dir, transform=None):\n",
        "        self.root_dir = root_dir\n",
        "        self.image_files = [os.path.join(root_dir, f) for f in os.listdir(root_dir) if f.endswith(('.png', '.jpg', '.jpeg'))]\n",
        "        self.transform = transform\n",
        "\n",
        "    def __len__(self):\n",
        "        return len(self.image_files)\n",
        "\n",
        "    def __getitem__(self, idx):\n",
        "      img_path = self.image_files[idx]\n",
        "      image = Image.open(img_path).convert(\"L\")\n",
        "      filename = os.path.basename(img_path)\n",
        "\n",
        "      if self.transform:\n",
        "          image = self.transform(image)\n",
        "\n",
        "      return image, filename"
      ],
      "metadata": {
        "id": "hbuJdY2uj_Ze"
      },
      "execution_count": null,
      "outputs": []
    },
    {
      "cell_type": "code",
      "source": [
        "transform = transforms.Compose([\n",
        "    transforms.Resize((256, 256)),\n",
        "    transforms.ToTensor()\n",
        "])"
      ],
      "metadata": {
        "id": "lFTjMifKkAO6"
      },
      "execution_count": null,
      "outputs": []
    },
    {
      "cell_type": "code",
      "source": [
        "train_dataset = CustomImageDataset(root_dir='/content/drive/MyDrive/temp_pnu_selection', transform=transform)\n",
        "test_dataset = CustomImageDataset(root_dir='/content/drive/MyDrive/mtg_processed_final_path', transform=transform)\n",
        "\n",
        "train_loader = DataLoader(train_dataset, batch_size=8, shuffle=True)\n",
        "test_loader = DataLoader(test_dataset, batch_size=8, shuffle=False)\n"
      ],
      "metadata": {
        "id": "Q9CvZfP9kLs3"
      },
      "execution_count": null,
      "outputs": []
    },
    {
      "cell_type": "code",
      "source": [
        "import torch.nn.functional as F\n",
        "from pytorch_msssim import SSIM\n",
        "\n",
        "# Initialize SSIM loss function\n",
        "ssim_loss_fn = SSIM(data_range=1.0, size_average=True, channel=1)\n",
        "\n",
        "def hybrid_loss(reconstructed, original, alpha=0.84):\n",
        "    \"\"\"\n",
        "    Computes a weighted sum of (1 - SSIM) and MSE loss.\n",
        "    Args:\n",
        "        reconstructed: The reconstructed output from the model.\n",
        "        original: The original input image.\n",
        "        alpha: Weight for SSIM loss (should be between 0 and 1).\n",
        "\n",
        "    Returns:\n",
        "        Hybrid loss combining SSIM and MSE.\n",
        "    \"\"\"\n",
        "    ssim_loss = 1 - ssim_loss_fn(reconstructed, original)  # Convert SSIM to loss\n",
        "    mse_loss = F.mse_loss(reconstructed, original)  # MSE Loss\n",
        "\n",
        "    return alpha * ssim_loss + (1 - alpha) * mse_loss  # Weighted sum\n"
      ],
      "metadata": {
        "id": "Tz7JXAOtlquI"
      },
      "execution_count": null,
      "outputs": []
    },
    {
      "cell_type": "code",
      "source": [
        "import torch\n",
        "import torch.optim as optim\n",
        "from tqdm import tqdm\n",
        "\n",
        "# Initialize model and move to GPU\n",
        "model = MedicalImageEncryptionModel().to(\"cuda\")\n",
        "\n",
        "# Define optimizer\n",
        "optimizer = optim.Adam(model.parameters(), lr=0.0001)\n",
        "\n",
        "# Training loop\n",
        "num_epochs = 250\n",
        "log_interval = 10  # Compute loss every 10 epochs\n",
        "\n",
        "def train_model():\n",
        "    for epoch in range(1, num_epochs + 1):\n",
        "        model.train()\n",
        "        train_loss = 0.0\n",
        "\n",
        "        for images,_ in tqdm(train_loader, desc=f\"Epoch {epoch}/{num_epochs}\"):\n",
        "            images = images.to(\"cuda\")\n",
        "            optimizer.zero_grad()\n",
        "\n",
        "            # Forward pass\n",
        "            reconstructed, _, _, _, _ = model(images)\n",
        "\n",
        "            # Compute loss\n",
        "            loss = hybrid_loss(reconstructed, images)\n",
        "            loss.backward()\n",
        "            optimizer.step()\n",
        "\n",
        "            train_loss += loss.item()\n",
        "\n",
        "        avg_train_loss = train_loss / len(train_loader)\n",
        "\n",
        "        if epoch % log_interval == 0:\n",
        "            print(f\"Epoch [{epoch}/{num_epochs}], Loss: {avg_train_loss:.6f}\")\n",
        "\n",
        "# Run training\n",
        "train_model()\n"
      ],
      "metadata": {
        "colab": {
          "base_uri": "https://localhost:8080/"
        },
        "id": "ZngJz3PsltC3",
        "outputId": "5036342b-8a6c-4162-edb4-f337762b9d64"
      },
      "execution_count": 15,
      "outputs": [
        {
          "output_type": "stream",
          "name": "stderr",
          "text": [
            "Epoch 1/250: 100%|██████████| 50/50 [00:09<00:00,  5.28it/s]\n",
            "Epoch 2/250: 100%|██████████| 50/50 [00:08<00:00,  5.72it/s]\n",
            "Epoch 3/250: 100%|██████████| 50/50 [00:08<00:00,  5.63it/s]\n",
            "Epoch 4/250: 100%|██████████| 50/50 [00:08<00:00,  5.69it/s]\n",
            "Epoch 5/250: 100%|██████████| 50/50 [00:08<00:00,  5.82it/s]\n",
            "Epoch 6/250: 100%|██████████| 50/50 [00:08<00:00,  5.76it/s]\n",
            "Epoch 7/250: 100%|██████████| 50/50 [00:08<00:00,  5.79it/s]\n",
            "Epoch 8/250: 100%|██████████| 50/50 [00:08<00:00,  5.79it/s]\n",
            "Epoch 9/250: 100%|██████████| 50/50 [00:08<00:00,  5.71it/s]\n",
            "Epoch 10/250: 100%|██████████| 50/50 [00:08<00:00,  5.70it/s]\n"
          ]
        },
        {
          "output_type": "stream",
          "name": "stdout",
          "text": [
            "Epoch [10/250], Loss: 0.043005\n"
          ]
        },
        {
          "output_type": "stream",
          "name": "stderr",
          "text": [
            "Epoch 11/250: 100%|██████████| 50/50 [00:08<00:00,  5.77it/s]\n",
            "Epoch 12/250: 100%|██████████| 50/50 [00:08<00:00,  5.67it/s]\n",
            "Epoch 13/250: 100%|██████████| 50/50 [00:08<00:00,  5.69it/s]\n",
            "Epoch 14/250: 100%|██████████| 50/50 [00:08<00:00,  5.78it/s]\n",
            "Epoch 15/250: 100%|██████████| 50/50 [00:08<00:00,  5.70it/s]\n",
            "Epoch 16/250: 100%|██████████| 50/50 [00:08<00:00,  5.73it/s]\n",
            "Epoch 17/250: 100%|██████████| 50/50 [00:08<00:00,  5.82it/s]\n",
            "Epoch 18/250: 100%|██████████| 50/50 [00:08<00:00,  5.73it/s]\n",
            "Epoch 19/250: 100%|██████████| 50/50 [00:08<00:00,  5.74it/s]\n",
            "Epoch 20/250: 100%|██████████| 50/50 [00:08<00:00,  5.81it/s]\n"
          ]
        },
        {
          "output_type": "stream",
          "name": "stdout",
          "text": [
            "Epoch [20/250], Loss: 0.024792\n"
          ]
        },
        {
          "output_type": "stream",
          "name": "stderr",
          "text": [
            "Epoch 21/250: 100%|██████████| 50/50 [00:08<00:00,  5.75it/s]\n",
            "Epoch 22/250: 100%|██████████| 50/50 [00:08<00:00,  5.73it/s]\n",
            "Epoch 23/250: 100%|██████████| 50/50 [00:08<00:00,  5.83it/s]\n",
            "Epoch 24/250: 100%|██████████| 50/50 [00:08<00:00,  5.71it/s]\n",
            "Epoch 25/250: 100%|██████████| 50/50 [00:08<00:00,  5.73it/s]\n",
            "Epoch 26/250: 100%|██████████| 50/50 [00:08<00:00,  5.81it/s]\n",
            "Epoch 27/250: 100%|██████████| 50/50 [00:08<00:00,  5.75it/s]\n",
            "Epoch 28/250: 100%|██████████| 50/50 [00:08<00:00,  5.76it/s]\n",
            "Epoch 29/250: 100%|██████████| 50/50 [00:08<00:00,  5.84it/s]\n",
            "Epoch 30/250: 100%|██████████| 50/50 [00:08<00:00,  5.75it/s]\n"
          ]
        },
        {
          "output_type": "stream",
          "name": "stdout",
          "text": [
            "Epoch [30/250], Loss: 0.017503\n"
          ]
        },
        {
          "output_type": "stream",
          "name": "stderr",
          "text": [
            "Epoch 31/250: 100%|██████████| 50/50 [00:08<00:00,  5.75it/s]\n",
            "Epoch 32/250: 100%|██████████| 50/50 [00:08<00:00,  5.86it/s]\n",
            "Epoch 33/250: 100%|██████████| 50/50 [00:08<00:00,  5.76it/s]\n",
            "Epoch 34/250: 100%|██████████| 50/50 [00:08<00:00,  5.75it/s]\n",
            "Epoch 35/250: 100%|██████████| 50/50 [00:08<00:00,  5.83it/s]\n",
            "Epoch 36/250: 100%|██████████| 50/50 [00:08<00:00,  5.75it/s]\n",
            "Epoch 37/250: 100%|██████████| 50/50 [00:08<00:00,  5.76it/s]\n",
            "Epoch 38/250: 100%|██████████| 50/50 [00:08<00:00,  5.84it/s]\n",
            "Epoch 39/250: 100%|██████████| 50/50 [00:08<00:00,  5.75it/s]\n",
            "Epoch 40/250: 100%|██████████| 50/50 [00:08<00:00,  5.71it/s]\n"
          ]
        },
        {
          "output_type": "stream",
          "name": "stdout",
          "text": [
            "Epoch [40/250], Loss: 0.012410\n"
          ]
        },
        {
          "output_type": "stream",
          "name": "stderr",
          "text": [
            "Epoch 41/250: 100%|██████████| 50/50 [00:08<00:00,  5.85it/s]\n",
            "Epoch 42/250: 100%|██████████| 50/50 [00:08<00:00,  5.76it/s]\n",
            "Epoch 43/250: 100%|██████████| 50/50 [00:08<00:00,  5.76it/s]\n",
            "Epoch 44/250: 100%|██████████| 50/50 [00:08<00:00,  5.83it/s]\n",
            "Epoch 45/250: 100%|██████████| 50/50 [00:08<00:00,  5.75it/s]\n",
            "Epoch 46/250: 100%|██████████| 50/50 [00:08<00:00,  5.76it/s]\n",
            "Epoch 47/250: 100%|██████████| 50/50 [00:08<00:00,  5.81it/s]\n",
            "Epoch 48/250: 100%|██████████| 50/50 [00:08<00:00,  5.75it/s]\n",
            "Epoch 49/250: 100%|██████████| 50/50 [00:08<00:00,  5.79it/s]\n",
            "Epoch 50/250: 100%|██████████| 50/50 [00:08<00:00,  5.82it/s]\n"
          ]
        },
        {
          "output_type": "stream",
          "name": "stdout",
          "text": [
            "Epoch [50/250], Loss: 0.010321\n"
          ]
        },
        {
          "output_type": "stream",
          "name": "stderr",
          "text": [
            "Epoch 51/250: 100%|██████████| 50/50 [00:08<00:00,  5.74it/s]\n",
            "Epoch 52/250: 100%|██████████| 50/50 [00:08<00:00,  5.78it/s]\n",
            "Epoch 53/250: 100%|██████████| 50/50 [00:08<00:00,  5.78it/s]\n",
            "Epoch 54/250: 100%|██████████| 50/50 [00:08<00:00,  5.72it/s]\n",
            "Epoch 55/250: 100%|██████████| 50/50 [00:08<00:00,  5.78it/s]\n",
            "Epoch 56/250: 100%|██████████| 50/50 [00:08<00:00,  5.80it/s]\n",
            "Epoch 57/250: 100%|██████████| 50/50 [00:08<00:00,  5.75it/s]\n",
            "Epoch 58/250: 100%|██████████| 50/50 [00:08<00:00,  5.80it/s]\n",
            "Epoch 59/250: 100%|██████████| 50/50 [00:08<00:00,  5.82it/s]\n",
            "Epoch 60/250: 100%|██████████| 50/50 [00:08<00:00,  5.75it/s]\n"
          ]
        },
        {
          "output_type": "stream",
          "name": "stdout",
          "text": [
            "Epoch [60/250], Loss: 0.008783\n"
          ]
        },
        {
          "output_type": "stream",
          "name": "stderr",
          "text": [
            "Epoch 61/250: 100%|██████████| 50/50 [00:08<00:00,  5.79it/s]\n",
            "Epoch 62/250: 100%|██████████| 50/50 [00:08<00:00,  5.81it/s]\n",
            "Epoch 63/250: 100%|██████████| 50/50 [00:08<00:00,  5.77it/s]\n",
            "Epoch 64/250: 100%|██████████| 50/50 [00:08<00:00,  5.79it/s]\n",
            "Epoch 65/250: 100%|██████████| 50/50 [00:08<00:00,  5.83it/s]\n",
            "Epoch 66/250: 100%|██████████| 50/50 [00:08<00:00,  5.73it/s]\n",
            "Epoch 67/250: 100%|██████████| 50/50 [00:08<00:00,  5.78it/s]\n",
            "Epoch 68/250: 100%|██████████| 50/50 [00:08<00:00,  5.80it/s]\n",
            "Epoch 69/250: 100%|██████████| 50/50 [00:08<00:00,  5.76it/s]\n",
            "Epoch 70/250: 100%|██████████| 50/50 [00:08<00:00,  5.77it/s]\n"
          ]
        },
        {
          "output_type": "stream",
          "name": "stdout",
          "text": [
            "Epoch [70/250], Loss: 0.008019\n"
          ]
        },
        {
          "output_type": "stream",
          "name": "stderr",
          "text": [
            "Epoch 71/250: 100%|██████████| 50/50 [00:08<00:00,  5.82it/s]\n",
            "Epoch 72/250: 100%|██████████| 50/50 [00:08<00:00,  5.74it/s]\n",
            "Epoch 73/250: 100%|██████████| 50/50 [00:08<00:00,  5.71it/s]\n",
            "Epoch 74/250: 100%|██████████| 50/50 [00:08<00:00,  5.84it/s]\n",
            "Epoch 75/250: 100%|██████████| 50/50 [00:08<00:00,  5.75it/s]\n",
            "Epoch 76/250: 100%|██████████| 50/50 [00:08<00:00,  5.70it/s]\n",
            "Epoch 77/250: 100%|██████████| 50/50 [00:08<00:00,  5.81it/s]\n",
            "Epoch 78/250: 100%|██████████| 50/50 [00:08<00:00,  5.73it/s]\n",
            "Epoch 79/250: 100%|██████████| 50/50 [00:08<00:00,  5.72it/s]\n",
            "Epoch 80/250: 100%|██████████| 50/50 [00:08<00:00,  5.82it/s]\n"
          ]
        },
        {
          "output_type": "stream",
          "name": "stdout",
          "text": [
            "Epoch [80/250], Loss: 0.006792\n"
          ]
        },
        {
          "output_type": "stream",
          "name": "stderr",
          "text": [
            "Epoch 81/250: 100%|██████████| 50/50 [00:08<00:00,  5.75it/s]\n",
            "Epoch 82/250: 100%|██████████| 50/50 [00:08<00:00,  5.71it/s]\n",
            "Epoch 83/250: 100%|██████████| 50/50 [00:08<00:00,  5.82it/s]\n",
            "Epoch 84/250: 100%|██████████| 50/50 [00:08<00:00,  5.65it/s]\n",
            "Epoch 85/250: 100%|██████████| 50/50 [00:08<00:00,  5.68it/s]\n",
            "Epoch 86/250: 100%|██████████| 50/50 [00:08<00:00,  5.81it/s]\n",
            "Epoch 87/250: 100%|██████████| 50/50 [00:08<00:00,  5.75it/s]\n",
            "Epoch 88/250: 100%|██████████| 50/50 [00:08<00:00,  5.73it/s]\n",
            "Epoch 89/250: 100%|██████████| 50/50 [00:08<00:00,  5.80it/s]\n",
            "Epoch 90/250: 100%|██████████| 50/50 [00:08<00:00,  5.73it/s]\n"
          ]
        },
        {
          "output_type": "stream",
          "name": "stdout",
          "text": [
            "Epoch [90/250], Loss: 0.005875\n"
          ]
        },
        {
          "output_type": "stream",
          "name": "stderr",
          "text": [
            "Epoch 91/250: 100%|██████████| 50/50 [00:08<00:00,  5.74it/s]\n",
            "Epoch 92/250: 100%|██████████| 50/50 [00:08<00:00,  5.81it/s]\n",
            "Epoch 93/250: 100%|██████████| 50/50 [00:08<00:00,  5.75it/s]\n",
            "Epoch 94/250: 100%|██████████| 50/50 [00:08<00:00,  5.71it/s]\n",
            "Epoch 95/250: 100%|██████████| 50/50 [00:08<00:00,  5.82it/s]\n",
            "Epoch 96/250: 100%|██████████| 50/50 [00:08<00:00,  5.73it/s]\n",
            "Epoch 97/250: 100%|██████████| 50/50 [00:08<00:00,  5.76it/s]\n",
            "Epoch 98/250: 100%|██████████| 50/50 [00:08<00:00,  5.84it/s]\n",
            "Epoch 99/250: 100%|██████████| 50/50 [00:08<00:00,  5.74it/s]\n",
            "Epoch 100/250: 100%|██████████| 50/50 [00:08<00:00,  5.72it/s]\n"
          ]
        },
        {
          "output_type": "stream",
          "name": "stdout",
          "text": [
            "Epoch [100/250], Loss: 0.004587\n"
          ]
        },
        {
          "output_type": "stream",
          "name": "stderr",
          "text": [
            "Epoch 101/250: 100%|██████████| 50/50 [00:08<00:00,  5.79it/s]\n",
            "Epoch 102/250: 100%|██████████| 50/50 [00:08<00:00,  5.74it/s]\n",
            "Epoch 103/250: 100%|██████████| 50/50 [00:08<00:00,  5.74it/s]\n",
            "Epoch 104/250: 100%|██████████| 50/50 [00:08<00:00,  5.80it/s]\n",
            "Epoch 105/250: 100%|██████████| 50/50 [00:08<00:00,  5.77it/s]\n",
            "Epoch 106/250: 100%|██████████| 50/50 [00:08<00:00,  5.73it/s]\n",
            "Epoch 107/250: 100%|██████████| 50/50 [00:08<00:00,  5.81it/s]\n",
            "Epoch 108/250: 100%|██████████| 50/50 [00:08<00:00,  5.74it/s]\n",
            "Epoch 109/250: 100%|██████████| 50/50 [00:08<00:00,  5.76it/s]\n",
            "Epoch 110/250: 100%|██████████| 50/50 [00:08<00:00,  5.80it/s]\n"
          ]
        },
        {
          "output_type": "stream",
          "name": "stdout",
          "text": [
            "Epoch [110/250], Loss: 0.003745\n"
          ]
        },
        {
          "output_type": "stream",
          "name": "stderr",
          "text": [
            "Epoch 111/250: 100%|██████████| 50/50 [00:08<00:00,  5.76it/s]\n",
            "Epoch 112/250: 100%|██████████| 50/50 [00:08<00:00,  5.73it/s]\n",
            "Epoch 113/250: 100%|██████████| 50/50 [00:08<00:00,  5.81it/s]\n",
            "Epoch 114/250: 100%|██████████| 50/50 [00:08<00:00,  5.76it/s]\n",
            "Epoch 115/250: 100%|██████████| 50/50 [00:08<00:00,  5.76it/s]\n",
            "Epoch 116/250: 100%|██████████| 50/50 [00:08<00:00,  5.82it/s]\n",
            "Epoch 117/250: 100%|██████████| 50/50 [00:08<00:00,  5.74it/s]\n",
            "Epoch 118/250: 100%|██████████| 50/50 [00:08<00:00,  5.73it/s]\n",
            "Epoch 119/250: 100%|██████████| 50/50 [00:08<00:00,  5.78it/s]\n",
            "Epoch 120/250: 100%|██████████| 50/50 [00:08<00:00,  5.74it/s]\n"
          ]
        },
        {
          "output_type": "stream",
          "name": "stdout",
          "text": [
            "Epoch [120/250], Loss: 0.003241\n"
          ]
        },
        {
          "output_type": "stream",
          "name": "stderr",
          "text": [
            "Epoch 121/250: 100%|██████████| 50/50 [00:08<00:00,  5.74it/s]\n",
            "Epoch 122/250: 100%|██████████| 50/50 [00:08<00:00,  5.81it/s]\n",
            "Epoch 123/250: 100%|██████████| 50/50 [00:08<00:00,  5.78it/s]\n",
            "Epoch 124/250: 100%|██████████| 50/50 [00:08<00:00,  5.75it/s]\n",
            "Epoch 125/250: 100%|██████████| 50/50 [00:08<00:00,  5.79it/s]\n",
            "Epoch 126/250: 100%|██████████| 50/50 [00:08<00:00,  5.77it/s]\n",
            "Epoch 127/250: 100%|██████████| 50/50 [00:08<00:00,  5.75it/s]\n",
            "Epoch 128/250: 100%|██████████| 50/50 [00:08<00:00,  5.75it/s]\n",
            "Epoch 129/250: 100%|██████████| 50/50 [00:08<00:00,  5.79it/s]\n",
            "Epoch 130/250: 100%|██████████| 50/50 [00:08<00:00,  5.72it/s]\n"
          ]
        },
        {
          "output_type": "stream",
          "name": "stdout",
          "text": [
            "Epoch [130/250], Loss: 0.002651\n"
          ]
        },
        {
          "output_type": "stream",
          "name": "stderr",
          "text": [
            "Epoch 131/250: 100%|██████████| 50/50 [00:08<00:00,  5.77it/s]\n",
            "Epoch 132/250: 100%|██████████| 50/50 [00:08<00:00,  5.73it/s]\n",
            "Epoch 133/250: 100%|██████████| 50/50 [00:08<00:00,  5.72it/s]\n",
            "Epoch 134/250: 100%|██████████| 50/50 [00:08<00:00,  5.76it/s]\n",
            "Epoch 135/250: 100%|██████████| 50/50 [00:08<00:00,  5.79it/s]\n",
            "Epoch 136/250: 100%|██████████| 50/50 [00:08<00:00,  5.74it/s]\n",
            "Epoch 137/250: 100%|██████████| 50/50 [00:08<00:00,  5.76it/s]\n",
            "Epoch 138/250: 100%|██████████| 50/50 [00:08<00:00,  5.76it/s]\n",
            "Epoch 139/250: 100%|██████████| 50/50 [00:08<00:00,  5.71it/s]\n",
            "Epoch 140/250: 100%|██████████| 50/50 [00:08<00:00,  5.73it/s]\n"
          ]
        },
        {
          "output_type": "stream",
          "name": "stdout",
          "text": [
            "Epoch [140/250], Loss: 0.002364\n"
          ]
        },
        {
          "output_type": "stream",
          "name": "stderr",
          "text": [
            "Epoch 141/250: 100%|██████████| 50/50 [00:08<00:00,  5.78it/s]\n",
            "Epoch 142/250: 100%|██████████| 50/50 [00:08<00:00,  5.73it/s]\n",
            "Epoch 143/250: 100%|██████████| 50/50 [00:08<00:00,  5.77it/s]\n",
            "Epoch 144/250: 100%|██████████| 50/50 [00:08<00:00,  5.83it/s]\n",
            "Epoch 145/250: 100%|██████████| 50/50 [00:08<00:00,  5.76it/s]\n",
            "Epoch 146/250: 100%|██████████| 50/50 [00:08<00:00,  5.76it/s]\n",
            "Epoch 147/250: 100%|██████████| 50/50 [00:08<00:00,  5.83it/s]\n",
            "Epoch 148/250: 100%|██████████| 50/50 [00:08<00:00,  5.76it/s]\n",
            "Epoch 149/250: 100%|██████████| 50/50 [00:08<00:00,  5.75it/s]\n",
            "Epoch 150/250: 100%|██████████| 50/50 [00:08<00:00,  5.83it/s]\n"
          ]
        },
        {
          "output_type": "stream",
          "name": "stdout",
          "text": [
            "Epoch [150/250], Loss: 0.001974\n"
          ]
        },
        {
          "output_type": "stream",
          "name": "stderr",
          "text": [
            "Epoch 151/250: 100%|██████████| 50/50 [00:08<00:00,  5.77it/s]\n",
            "Epoch 152/250: 100%|██████████| 50/50 [00:08<00:00,  5.77it/s]\n",
            "Epoch 153/250: 100%|██████████| 50/50 [00:08<00:00,  5.83it/s]\n",
            "Epoch 154/250: 100%|██████████| 50/50 [00:08<00:00,  5.71it/s]\n",
            "Epoch 155/250: 100%|██████████| 50/50 [00:08<00:00,  5.72it/s]\n",
            "Epoch 156/250: 100%|██████████| 50/50 [00:08<00:00,  5.83it/s]\n",
            "Epoch 157/250: 100%|██████████| 50/50 [00:08<00:00,  5.76it/s]\n",
            "Epoch 158/250: 100%|██████████| 50/50 [00:08<00:00,  5.75it/s]\n",
            "Epoch 159/250: 100%|██████████| 50/50 [00:08<00:00,  5.83it/s]\n",
            "Epoch 160/250: 100%|██████████| 50/50 [00:08<00:00,  5.77it/s]\n"
          ]
        },
        {
          "output_type": "stream",
          "name": "stdout",
          "text": [
            "Epoch [160/250], Loss: 0.001724\n"
          ]
        },
        {
          "output_type": "stream",
          "name": "stderr",
          "text": [
            "Epoch 161/250: 100%|██████████| 50/50 [00:08<00:00,  5.78it/s]\n",
            "Epoch 162/250: 100%|██████████| 50/50 [00:08<00:00,  5.84it/s]\n",
            "Epoch 163/250: 100%|██████████| 50/50 [00:08<00:00,  5.73it/s]\n",
            "Epoch 164/250: 100%|██████████| 50/50 [00:08<00:00,  5.69it/s]\n",
            "Epoch 165/250: 100%|██████████| 50/50 [00:08<00:00,  5.82it/s]\n",
            "Epoch 166/250: 100%|██████████| 50/50 [00:08<00:00,  5.73it/s]\n",
            "Epoch 167/250: 100%|██████████| 50/50 [00:08<00:00,  5.71it/s]\n",
            "Epoch 168/250: 100%|██████████| 50/50 [00:08<00:00,  5.81it/s]\n",
            "Epoch 169/250: 100%|██████████| 50/50 [00:08<00:00,  5.70it/s]\n",
            "Epoch 170/250: 100%|██████████| 50/50 [00:08<00:00,  5.71it/s]\n"
          ]
        },
        {
          "output_type": "stream",
          "name": "stdout",
          "text": [
            "Epoch [170/250], Loss: 0.001757\n"
          ]
        },
        {
          "output_type": "stream",
          "name": "stderr",
          "text": [
            "Epoch 171/250: 100%|██████████| 50/50 [00:08<00:00,  5.81it/s]\n",
            "Epoch 172/250: 100%|██████████| 50/50 [00:08<00:00,  5.73it/s]\n",
            "Epoch 173/250: 100%|██████████| 50/50 [00:08<00:00,  5.69it/s]\n",
            "Epoch 174/250: 100%|██████████| 50/50 [00:08<00:00,  5.85it/s]\n",
            "Epoch 175/250: 100%|██████████| 50/50 [00:08<00:00,  5.74it/s]\n",
            "Epoch 176/250: 100%|██████████| 50/50 [00:08<00:00,  5.71it/s]\n",
            "Epoch 177/250: 100%|██████████| 50/50 [00:08<00:00,  5.84it/s]\n",
            "Epoch 178/250: 100%|██████████| 50/50 [00:08<00:00,  5.78it/s]\n",
            "Epoch 179/250: 100%|██████████| 50/50 [00:08<00:00,  5.75it/s]\n",
            "Epoch 180/250: 100%|██████████| 50/50 [00:08<00:00,  5.85it/s]\n"
          ]
        },
        {
          "output_type": "stream",
          "name": "stdout",
          "text": [
            "Epoch [180/250], Loss: 0.001320\n"
          ]
        },
        {
          "output_type": "stream",
          "name": "stderr",
          "text": [
            "Epoch 181/250: 100%|██████████| 50/50 [00:08<00:00,  5.73it/s]\n",
            "Epoch 182/250: 100%|██████████| 50/50 [00:08<00:00,  5.75it/s]\n",
            "Epoch 183/250: 100%|██████████| 50/50 [00:08<00:00,  5.82it/s]\n",
            "Epoch 184/250: 100%|██████████| 50/50 [00:08<00:00,  5.73it/s]\n",
            "Epoch 185/250: 100%|██████████| 50/50 [00:08<00:00,  5.74it/s]\n",
            "Epoch 186/250: 100%|██████████| 50/50 [00:08<00:00,  5.85it/s]\n",
            "Epoch 187/250: 100%|██████████| 50/50 [00:08<00:00,  5.77it/s]\n",
            "Epoch 188/250: 100%|██████████| 50/50 [00:08<00:00,  5.68it/s]\n",
            "Epoch 189/250: 100%|██████████| 50/50 [00:08<00:00,  5.83it/s]\n",
            "Epoch 190/250: 100%|██████████| 50/50 [00:08<00:00,  5.73it/s]\n"
          ]
        },
        {
          "output_type": "stream",
          "name": "stdout",
          "text": [
            "Epoch [190/250], Loss: 0.001204\n"
          ]
        },
        {
          "output_type": "stream",
          "name": "stderr",
          "text": [
            "Epoch 191/250: 100%|██████████| 50/50 [00:08<00:00,  5.73it/s]\n",
            "Epoch 192/250: 100%|██████████| 50/50 [00:08<00:00,  5.77it/s]\n",
            "Epoch 193/250: 100%|██████████| 50/50 [00:08<00:00,  5.79it/s]\n",
            "Epoch 194/250: 100%|██████████| 50/50 [00:08<00:00,  5.78it/s]\n",
            "Epoch 195/250: 100%|██████████| 50/50 [00:08<00:00,  5.84it/s]\n",
            "Epoch 196/250: 100%|██████████| 50/50 [00:08<00:00,  5.76it/s]\n",
            "Epoch 197/250: 100%|██████████| 50/50 [00:08<00:00,  5.74it/s]\n",
            "Epoch 198/250: 100%|██████████| 50/50 [00:08<00:00,  5.80it/s]\n",
            "Epoch 199/250: 100%|██████████| 50/50 [00:08<00:00,  5.81it/s]\n",
            "Epoch 200/250: 100%|██████████| 50/50 [00:08<00:00,  5.74it/s]\n"
          ]
        },
        {
          "output_type": "stream",
          "name": "stdout",
          "text": [
            "Epoch [200/250], Loss: 0.001744\n"
          ]
        },
        {
          "output_type": "stream",
          "name": "stderr",
          "text": [
            "Epoch 201/250: 100%|██████████| 50/50 [00:08<00:00,  5.80it/s]\n",
            "Epoch 202/250: 100%|██████████| 50/50 [00:08<00:00,  5.81it/s]\n",
            "Epoch 203/250: 100%|██████████| 50/50 [00:08<00:00,  5.78it/s]\n",
            "Epoch 204/250: 100%|██████████| 50/50 [00:08<00:00,  5.82it/s]\n",
            "Epoch 205/250: 100%|██████████| 50/50 [00:08<00:00,  5.80it/s]\n",
            "Epoch 206/250: 100%|██████████| 50/50 [00:08<00:00,  5.77it/s]\n",
            "Epoch 207/250: 100%|██████████| 50/50 [00:08<00:00,  5.84it/s]\n",
            "Epoch 208/250: 100%|██████████| 50/50 [00:08<00:00,  5.77it/s]\n",
            "Epoch 209/250: 100%|██████████| 50/50 [00:08<00:00,  5.76it/s]\n",
            "Epoch 210/250: 100%|██████████| 50/50 [00:08<00:00,  5.83it/s]\n"
          ]
        },
        {
          "output_type": "stream",
          "name": "stdout",
          "text": [
            "Epoch [210/250], Loss: 0.001006\n"
          ]
        },
        {
          "output_type": "stream",
          "name": "stderr",
          "text": [
            "Epoch 211/250: 100%|██████████| 50/50 [00:08<00:00,  5.79it/s]\n",
            "Epoch 212/250: 100%|██████████| 50/50 [00:08<00:00,  5.77it/s]\n",
            "Epoch 213/250: 100%|██████████| 50/50 [00:08<00:00,  5.83it/s]\n",
            "Epoch 214/250: 100%|██████████| 50/50 [00:08<00:00,  5.80it/s]\n",
            "Epoch 215/250: 100%|██████████| 50/50 [00:08<00:00,  5.75it/s]\n",
            "Epoch 216/250: 100%|██████████| 50/50 [00:08<00:00,  5.82it/s]\n",
            "Epoch 217/250: 100%|██████████| 50/50 [00:08<00:00,  5.83it/s]\n",
            "Epoch 218/250: 100%|██████████| 50/50 [00:08<00:00,  5.80it/s]\n",
            "Epoch 219/250: 100%|██████████| 50/50 [00:08<00:00,  5.84it/s]\n",
            "Epoch 220/250: 100%|██████████| 50/50 [00:08<00:00,  5.78it/s]\n"
          ]
        },
        {
          "output_type": "stream",
          "name": "stdout",
          "text": [
            "Epoch [220/250], Loss: 0.000895\n"
          ]
        },
        {
          "output_type": "stream",
          "name": "stderr",
          "text": [
            "Epoch 221/250: 100%|██████████| 50/50 [00:08<00:00,  5.75it/s]\n",
            "Epoch 222/250: 100%|██████████| 50/50 [00:08<00:00,  5.71it/s]\n",
            "Epoch 223/250: 100%|██████████| 50/50 [00:08<00:00,  5.74it/s]\n",
            "Epoch 224/250: 100%|██████████| 50/50 [00:08<00:00,  5.73it/s]\n",
            "Epoch 225/250: 100%|██████████| 50/50 [00:08<00:00,  5.78it/s]\n",
            "Epoch 226/250: 100%|██████████| 50/50 [00:08<00:00,  5.72it/s]\n",
            "Epoch 227/250: 100%|██████████| 50/50 [00:08<00:00,  5.68it/s]\n",
            "Epoch 228/250: 100%|██████████| 50/50 [00:08<00:00,  5.70it/s]\n",
            "Epoch 229/250: 100%|██████████| 50/50 [00:08<00:00,  5.70it/s]\n",
            "Epoch 230/250: 100%|██████████| 50/50 [00:08<00:00,  5.70it/s]\n"
          ]
        },
        {
          "output_type": "stream",
          "name": "stdout",
          "text": [
            "Epoch [230/250], Loss: 0.000850\n"
          ]
        },
        {
          "output_type": "stream",
          "name": "stderr",
          "text": [
            "Epoch 231/250: 100%|██████████| 50/50 [00:08<00:00,  5.76it/s]\n",
            "Epoch 232/250: 100%|██████████| 50/50 [00:08<00:00,  5.76it/s]\n",
            "Epoch 233/250: 100%|██████████| 50/50 [00:08<00:00,  5.78it/s]\n",
            "Epoch 234/250: 100%|██████████| 50/50 [00:08<00:00,  5.77it/s]\n",
            "Epoch 235/250: 100%|██████████| 50/50 [00:08<00:00,  5.81it/s]\n",
            "Epoch 236/250: 100%|██████████| 50/50 [00:08<00:00,  5.75it/s]\n",
            "Epoch 237/250: 100%|██████████| 50/50 [00:08<00:00,  5.72it/s]\n",
            "Epoch 238/250: 100%|██████████| 50/50 [00:08<00:00,  5.80it/s]\n",
            "Epoch 239/250: 100%|██████████| 50/50 [00:08<00:00,  5.74it/s]\n",
            "Epoch 240/250: 100%|██████████| 50/50 [00:08<00:00,  5.76it/s]\n"
          ]
        },
        {
          "output_type": "stream",
          "name": "stdout",
          "text": [
            "Epoch [240/250], Loss: 0.000854\n"
          ]
        },
        {
          "output_type": "stream",
          "name": "stderr",
          "text": [
            "Epoch 241/250: 100%|██████████| 50/50 [00:08<00:00,  5.76it/s]\n",
            "Epoch 242/250: 100%|██████████| 50/50 [00:08<00:00,  5.70it/s]\n",
            "Epoch 243/250: 100%|██████████| 50/50 [00:08<00:00,  5.75it/s]\n",
            "Epoch 244/250: 100%|██████████| 50/50 [00:08<00:00,  5.77it/s]\n",
            "Epoch 245/250: 100%|██████████| 50/50 [00:08<00:00,  5.72it/s]\n",
            "Epoch 246/250: 100%|██████████| 50/50 [00:08<00:00,  5.80it/s]\n",
            "Epoch 247/250: 100%|██████████| 50/50 [00:08<00:00,  5.84it/s]\n",
            "Epoch 248/250: 100%|██████████| 50/50 [00:08<00:00,  5.75it/s]\n",
            "Epoch 249/250: 100%|██████████| 50/50 [00:08<00:00,  5.78it/s]\n",
            "Epoch 250/250: 100%|██████████| 50/50 [00:08<00:00,  5.83it/s]"
          ]
        },
        {
          "output_type": "stream",
          "name": "stdout",
          "text": [
            "Epoch [250/250], Loss: 0.000853\n"
          ]
        },
        {
          "output_type": "stream",
          "name": "stderr",
          "text": [
            "\n"
          ]
        }
      ]
    },
    {
      "cell_type": "code",
      "source": [
        "import torch\n",
        "import numpy as np\n",
        "from tqdm import tqdm\n",
        "from skimage.metrics import structural_similarity as ssim\n",
        "from skimage.metrics import peak_signal_noise_ratio as psnr\n",
        "\n",
        "def evaluate_model():\n",
        "    model.eval()\n",
        "    total_ssim = 0.0\n",
        "    total_psnr = 0.0\n",
        "    num_samples = 0\n",
        "\n",
        "    with torch.no_grad():  # Disable gradient tracking during evaluation\n",
        "        for images,_ in tqdm(test_loader, desc=\"Evaluating Model\"):\n",
        "            images = images.to(\"cuda\")\n",
        "\n",
        "            # Forward pass through the model\n",
        "            reconstructed_x, Ki, EKi, EPi, recovered_Ki = model(images)\n",
        "\n",
        "            # Convert tensors to NumPy arrays for SSIM and PSNR computation\n",
        "            original_np = images.squeeze().cpu().numpy()  # (N, H, W)\n",
        "            recon_np = reconstructed_x.squeeze().cpu().numpy()  # (N, H, W)\n",
        "\n",
        "            # Ensure 2D format per image (H, W)\n",
        "            if original_np.ndim == 3:  # If batch of images (N, H, W)\n",
        "                for i in range(original_np.shape[0]):\n",
        "                    min_dim = min(original_np.shape[1], original_np.shape[2])\n",
        "                    win_size = min(7, min_dim) if min_dim >= 7 else min_dim  # Adjust window size\n",
        "\n",
        "                    batch_ssim = ssim(original_np[i], recon_np[i], data_range=1.0, win_size=win_size)\n",
        "                    batch_psnr = psnr(original_np[i], recon_np[i], data_range=1.0)\n",
        "\n",
        "                    total_ssim += batch_ssim\n",
        "                    total_psnr += batch_psnr\n",
        "                    num_samples += 1\n",
        "            else:  # Single image case\n",
        "                min_dim = min(original_np.shape[0], original_np.shape[1])\n",
        "                win_size = min(7, min_dim) if min_dim >= 7 else min_dim  # Adjust window size\n",
        "\n",
        "                batch_ssim = ssim(original_np, recon_np, data_range=1.0, win_size=win_size)\n",
        "                batch_psnr = psnr(original_np, recon_np, data_range=1.0)\n",
        "\n",
        "                total_ssim += batch_ssim\n",
        "                total_psnr += batch_psnr\n",
        "                num_samples += 1\n",
        "\n",
        "    # Compute average SSIM and PSNR\n",
        "    avg_ssim = total_ssim / num_samples\n",
        "    avg_psnr = total_psnr / num_samples\n",
        "\n",
        "    print(f\"Average SSIM: {avg_ssim:.4f}\")\n",
        "    print(f\"Average PSNR: {avg_psnr:.4f} dB\")\n",
        "    print(num_samples)\n",
        "\n",
        "# Run Evaluation\n",
        "evaluate_model()\n"
      ],
      "metadata": {
        "colab": {
          "base_uri": "https://localhost:8080/"
        },
        "id": "inNHQloHx2d1",
        "outputId": "97f4afca-2668-4fa9-d05d-11db30d4f99d"
      },
      "execution_count": 20,
      "outputs": [
        {
          "output_type": "stream",
          "name": "stderr",
          "text": [
            "Evaluating Model: 100%|██████████| 18/18 [00:02<00:00,  8.07it/s]"
          ]
        },
        {
          "output_type": "stream",
          "name": "stdout",
          "text": [
            "Average SSIM: 0.9950\n",
            "Average PSNR: 36.6538 dB\n",
            "138\n"
          ]
        },
        {
          "output_type": "stream",
          "name": "stderr",
          "text": [
            "\n"
          ]
        }
      ]
    }
  ]
}